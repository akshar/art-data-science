{
 "cells": [
  {
   "cell_type": "markdown",
   "metadata": {},
   "source": [
    "# 2. Acquire the Data\n",
    "\n",
    "\n",
    "## Finding Data Sources\n",
    "\n",
    "There are three place to get onion price and quantity information by market. \n",
    "\n",
    "1. **[Agmarket](http://agmarknet.nic.in/)** - This is the website run by the Directorate of Marketing & Inspection (DMI), Ministry of Agriculture, Government of India and provides daily price and arrival data for all agricultural commodities at national and state level. Unfortunately, the link to get Market-wise Daily Report for Specific Commodity (Onion for us) leads to a multipage aspx entry form to get data for each date. So it is like to require an involved scraper to get the data. Too much effort - Move on. Here is the best link to go to get what is available - http://agmarknet.nic.in/agnew/NationalBEnglish/SpecificCommodityWeeklyReport.aspx?ss=1\n",
    "\n",
    "\n",
    "2. **[Data.gov.in](https://data.gov.in/)** - This is normally a good place to get government data in a machine readable form like csv or xml. The Variety-wise Daily Market Prices Data of Onion is available for each year as an XML but unfortunately it does not include quantity information that is needed. It would be good to have both price and quantity - so even though this is easy, lets see if we can get both from a different source. Here is the best link to go to get what is available - https://data.gov.in/catalog/variety-wise-daily-market-prices-data-onion#web_catalog_tabs_block_10\n",
    "\n",
    "\n",
    "3. **[NHRDF](http://nhrdf.org/en-us/)** - This is the website of National Horticultural Research & Development Foundation and maintains a database on Market Arrivals and Price, Area and Production and Export Data for three commodities - Garlic, Onion and Potatoes. We are in luck! It also has data from 1996 onwards and has only got one form to fill to get the data in a tabular form. Further it also has production and export data. Excellent. Lets use this. Here is the best link to got to get all that is available - http://nhrdf.org/en-us/DatabaseReports\n",
    "\n",
    "\n",
    "## Scraping the Data\n",
    "\n",
    "\n",
    "### Ways to Scrape Data\n",
    "Now we can do this in two different levels of sophistication\n",
    "\n",
    "1. **Automate the form filling process**: The form on this page looks simple. But viewing source in the browser shows there form to fill with hidden fields and we will need to access it as a browser to get the session fields and then submit the form. This is a little bit more complicated than simple scraping a table on a webpage\n",
    "\n",
    "2. **Manually fill the form**: What if we manually fill the form with the desired form fields and then save the page as a html file. Then we can read this file and just scrape the table from it. Lets go with the simple way for now.\n",
    "\n",
    "\n",
    "### Scraping - Manual Form Filling\n",
    "\n",
    "So let us fill the form to get a small subset of data and test our scraping process.  We will start by getting the [Monthwise Market Arrivals](http://nhrdf.org/en-us/MonthWiseMarketArrivals). \n",
    "\n",
    "- Crop Name: Onion\n",
    "- Month: January\n",
    "- Market: All\n",
    "- Year: 2016\n",
    "\n",
    "The saved webpage is available at [MonthWiseMarketArrivalsJan2016.html](MonthWiseMarketArrivalsJan2016.html)\n",
    "\n",
    "### Understand the HTML Structure\n",
    "\n",
    "We need to scrape data from this html page... So let us try to understand the structure of the page.\n",
    "\n",
    "1. You can view the source of the page - typically Right Click and View Source on any browser and that would give your the source HTML for any page.\n",
    "\n",
    "2. You can open the developer tools in your browser and investigate the structure as you mouse over the page \n",
    "\n",
    "3. We can use a tools like [Selector Gadget](http://selectorgadget.com/) to understand the id's and classes' used in the web page\n",
    "\n",
    "Our data is under the **&lt;table&gt;** tag "
   ]
  },
  {
   "cell_type": "markdown",
   "metadata": {},
   "source": [
    "### Exercise - Finding the Table"
   ]
  },
  {
   "cell_type": "markdown",
   "metadata": {},
   "source": [
    "Find the number of tables in the HTML Structure of [MonthWiseMarketArrivalsJan2016.html](MonthWiseMarketArrivalsJan2016.html)?"
   ]
  },
  {
   "cell_type": "code",
   "execution_count": 34,
   "metadata": {},
   "outputs": [
    {
     "data": {
      "text/html": [
       "''"
      ],
      "text/latex": [
       "''"
      ],
      "text/markdown": [
       "''"
      ],
      "text/plain": [
       "[1] \"\""
      ]
     },
     "execution_count": 34,
     "metadata": {},
     "output_type": "execute_result"
    }
   ],
   "source": []
  },
  {
   "cell_type": "markdown",
   "metadata": {},
   "source": [
    "Find the exact table and #id attribute for the the table"
   ]
  },
  {
   "cell_type": "code",
   "execution_count": null,
   "metadata": {
    "collapsed": true
   },
   "outputs": [],
   "source": []
  },
  {
   "cell_type": "markdown",
   "metadata": {},
   "source": [
    "###  Manual Scraping"
   ]
  },
  {
   "cell_type": "code",
   "execution_count": 30,
   "metadata": {},
   "outputs": [
    {
     "name": "stderr",
     "output_type": "stream",
     "text": [
      "also installing the dependencies 'curl', 'openssl', 'XML', 'xml2', 'httr', 'selectr'\n",
      "\n",
      "Warning message:\n",
      "In install.packages(\"rvest\", repos = \"http://ftp.iitm.ac.in/cran/\"): installation of package 'curl' had non-zero exit statusWarning message:\n",
      "In install.packages(\"rvest\", repos = \"http://ftp.iitm.ac.in/cran/\"): installation of package 'openssl' had non-zero exit statusWarning message:\n",
      "In install.packages(\"rvest\", repos = \"http://ftp.iitm.ac.in/cran/\"): installation of package 'XML' had non-zero exit statusWarning message:\n",
      "In install.packages(\"rvest\", repos = \"http://ftp.iitm.ac.in/cran/\"): installation of package 'xml2' had non-zero exit statusWarning message:\n",
      "In install.packages(\"rvest\", repos = \"http://ftp.iitm.ac.in/cran/\"): installation of package 'httr' had non-zero exit statusWarning message:\n",
      "In install.packages(\"rvest\", repos = \"http://ftp.iitm.ac.in/cran/\"): installation of package 'selectr' had non-zero exit statusWarning message:\n",
      "In install.packages(\"rvest\", repos = \"http://ftp.iitm.ac.in/cran/\"): installation of package 'rvest' had non-zero exit status"
     ]
    },
    {
     "name": "stdout",
     "output_type": "stream",
     "text": [
      "\n",
      "The downloaded source packages are in\n",
      "\t'/private/var/folders/04/r20f0_4n2m7cv23lr8t97wp00000gn/T/Rtmpi3LZwX/downloaded_packages'\n"
     ]
    },
    {
     "name": "stderr",
     "output_type": "stream",
     "text": [
      "Updating HTML index of packages in '.Library'\n",
      "Making 'packages.html' ... done\n"
     ]
    }
   ],
   "source": [
    "install.packages(\"rvest\", repos='http://ftp.iitm.ac.in/cran/')"
   ]
  },
  {
   "cell_type": "code",
   "execution_count": 2,
   "metadata": {},
   "outputs": [
    {
     "data": {
      "text/html": [
       "'/Users/amitkaps/Dropbox/github/intro-R-data-science/onion'"
      ],
      "text/latex": [
       "'/Users/amitkaps/Dropbox/github/intro-R-data-science/onion'"
      ],
      "text/markdown": [
       "'/Users/amitkaps/Dropbox/github/intro-R-data-science/onion'"
      ],
      "text/plain": [
       "[1] \"/Users/amitkaps/Dropbox/github/intro-R-data-science/onion\""
      ]
     },
     "execution_count": 2,
     "metadata": {},
     "output_type": "execute_result"
    }
   ],
   "source": [
    "getwd()"
   ]
  },
  {
   "cell_type": "code",
   "execution_count": 1,
   "metadata": {},
   "outputs": [
    {
     "name": "stderr",
     "output_type": "stream",
     "text": [
      "Loading required package: xml2\n"
     ]
    }
   ],
   "source": [
    "library(rvest)"
   ]
  },
  {
   "cell_type": "code",
   "execution_count": 10,
   "metadata": {},
   "outputs": [],
   "source": [
    "pg.out <- read_html('MonthWiseMarketArrivalsJan2016.html')"
   ]
  },
  {
   "cell_type": "code",
   "execution_count": 28,
   "metadata": {},
   "outputs": [
    {
     "data": {
      "text/plain": [
       "{xml_document}\n",
       "<html>\n",
       "[1] <head id=\"Head\">&#13;\\n<!--********************************************** ...\n",
       "[2] <body id=\"Body\">&#13;\\n    &#13;\\n    <form method=\"post\" action=\"/en-us/ ..."
      ]
     },
     "execution_count": 28,
     "metadata": {},
     "output_type": "execute_result"
    }
   ],
   "source": [
    "pg.out"
   ]
  },
  {
   "cell_type": "code",
   "execution_count": 16,
   "metadata": {},
   "outputs": [
    {
     "ename": "ERROR",
     "evalue": "Error: Please supply one of css or xpath\n",
     "output_type": "error",
     "traceback": [
      "Error: Please supply one of css or xpath\n"
     ]
    }
   ],
   "source": [
    "html_node()"
   ]
  },
  {
   "cell_type": "code",
   "execution_count": 17,
   "metadata": {},
   "outputs": [],
   "source": [
    "# Read the page and convert to data frame\n",
    "pg.table <-  pg.out %>% \n",
    "            html_node(\"#dnn_ctr974_MonthWiseMarketArrivals_GridView1\")  %>%\n",
    "            html_table()"
   ]
  },
  {
   "cell_type": "code",
   "execution_count": 18,
   "metadata": {
    "scrolled": true
   },
   "outputs": [
    {
     "name": "stdout",
     "output_type": "stream",
     "text": [
      "'data.frame':\t10228 obs. of  7 variables:\n",
      " $ Market              : chr  \"ABOHAR(PB)\" \"ABOHAR(PB)\" \"ABOHAR(PB)\" \"ABOHAR(PB)\" ...\n",
      " $ Month Name          : chr  \"January\" \"January\" \"January\" \"January\" ...\n",
      " $ Year                : chr  \"2005\" \"2006\" \"2010\" \"2011\" ...\n",
      " $ Arrival (q)         : int  2350 900 790 245 1035 675 440 1305 1400 1800 ...\n",
      " $ Price Minimum (Rs/q): chr  \"404\" \"487\" \"1283\" \"3067\" ...\n",
      " $ Price Maximum (Rs/q): chr  \"493\" \"638\" \"1592\" \"3750\" ...\n",
      " $ Modal Price (Rs/q)  : chr  \"446\" \"563\" \"1460\" \"3433\" ...\n"
     ]
    }
   ],
   "source": [
    "str(pg.table)"
   ]
  },
  {
   "cell_type": "code",
   "execution_count": null,
   "metadata": {
    "collapsed": true
   },
   "outputs": [],
   "source": []
  },
  {
   "cell_type": "markdown",
   "metadata": {},
   "source": [
    "### Automatic Method\n",
    "\n",
    "We need to scrape data from a table but we also need to submit a form to get the table. I will use a new library called rvest to do this. rvest is inspired from beautiful soup in python which I llke, so lets give it a go. Here is the link to rvest if you want to read more - http://blog.rstudio.org/2014/11/24/rvest-easy-web-scraping-with-r/\n",
    "\n",
    "We will start by getting the Monthwise Market Arrivals. The form on this page looks simple. But viewing source in the browser shows there form to fill with hidden fields and we will need to access it as a browser to get the session fields and then submit the form. First lets get the form."
   ]
  },
  {
   "cell_type": "code",
   "execution_count": 19,
   "metadata": {},
   "outputs": [],
   "source": [
    "library(rvest)"
   ]
  },
  {
   "cell_type": "code",
   "execution_count": 20,
   "metadata": {
    "collapsed": true
   },
   "outputs": [],
   "source": [
    "url <- \"http://nhrdf.org/en-us/MonthWiseMarketArrivals\""
   ]
  },
  {
   "cell_type": "code",
   "execution_count": 21,
   "metadata": {},
   "outputs": [],
   "source": [
    "# Set a session - then get the form - extract the first one\n",
    "pg.session <- html_session(url)\n",
    "pg.form <- html_form(pg.session)[[1]]"
   ]
  },
  {
   "cell_type": "markdown",
   "metadata": {},
   "source": [
    "Now that we have the form, let see if we can fill the form. Even though the form gives us options to choose by name, inspecting the html shows clearly that the we need to add number for each one of the fields. Leaving them blank (for month, year and market) makes it equal to all. Lets get our data. (For testing. don't leave all them blank)"
   ]
  },
  {
   "cell_type": "code",
   "execution_count": 22,
   "metadata": {
    "collapsed": true
   },
   "outputs": [],
   "source": [
    "# Set scraping value \n",
    "# Crop = 1 for Onion, Year = numeric (blank for all years)\n",
    "# MonthName = 1 for Jan and so on (blank for all months)\n",
    "# Market = blank for all markets\n",
    "crop <- 1\n",
    "month <- 1\n",
    "year <- 2016\n",
    "market <- \"\""
   ]
  },
  {
   "cell_type": "code",
   "execution_count": 23,
   "metadata": {},
   "outputs": [],
   "source": [
    "# Fill the form with the values\n",
    "pg.form <- html_form(pg.session)[[1]]\n",
    "pg.form.filled <- set_values(pg.form, \n",
    "                      \"dnn$dnnLANG$selectCulture\" = \"en-US\",\n",
    "                      \"dnn$ctr974$MonthWiseMarketArrivals$Market\" = market,\n",
    "                      \"dnn$ctr974$MonthWiseMarketArrivals$MonthName\" = month,\n",
    "                      \"dnn$ctr974$MonthWiseMarketArrivals$Year\" = year,\n",
    "                      \"dnn$ctr974$MonthWiseMarketArrivals$Crop\" = crop)"
   ]
  },
  {
   "cell_type": "code",
   "execution_count": 25,
   "metadata": {},
   "outputs": [],
   "source": [
    "# Submit the form and get the page\n",
    "pg.submit <- submit_form(pg.session, pg.form.filled,\n",
    "                         submit = 'dnn$ctr974$MonthWiseMarketArrivals$btnSearch')\n",
    "pg.out <- read_html(pg.submit)"
   ]
  },
  {
   "cell_type": "markdown",
   "metadata": {},
   "source": [
    "Now that we have the html with our table, we need to find it on our page using the css selector. Then convert it into a data frame. And then write it to a csv file to store for the next step."
   ]
  },
  {
   "cell_type": "code",
   "execution_count": 26,
   "metadata": {},
   "outputs": [],
   "source": [
    "# Read the page and convert to data frame\n",
    "pg.table <-  pg.out %>% \n",
    "            html_node(\"#dnn_ctr974_MonthWiseMarketArrivals_GridView1\")  %>%\n",
    "            html_table()"
   ]
  },
  {
   "cell_type": "code",
   "execution_count": 27,
   "metadata": {},
   "outputs": [
    {
     "name": "stdout",
     "output_type": "stream",
     "text": [
      "'data.frame':\t84 obs. of  7 variables:\n",
      " $ Market              : chr  \"AGRA(UP)\" \"AHMEDABAD(GUJ)\" \"AHMEDNAGAR(MS)\" \"AJMER(RAJ)\" ...\n",
      " $ Month Name          : chr  \"January\" \"January\" \"January\" \"January\" ...\n",
      " $ Year                : chr  \"2016\" \"2016\" \"2016\" \"2016\" ...\n",
      " $ Arrival (q)         : int  134200 198390 208751 4247 12350 9788 24800 600 507223 18435 ...\n",
      " $ Price Minimum (Rs/q): chr  \"1039\" \"646\" \"175\" \"722\" ...\n",
      " $ Price Maximum (Rs/q): chr  \"1443\" \"1224\" \"1722\" \"1067\" ...\n",
      " $ Modal Price (Rs/q)  : chr  \"1349\" \"997\" \"1138\" \"939\" ...\n"
     ]
    }
   ],
   "source": [
    "str(pg.table)"
   ]
  },
  {
   "cell_type": "code",
   "execution_count": null,
   "metadata": {
    "collapsed": true
   },
   "outputs": [],
   "source": [
    "file <- paste(\"MonthWiseMarketArrivalsJan2016\", as.character(month), as.character(year), \".csv\", sep=\"\")"
   ]
  },
  {
   "cell_type": "code",
   "execution_count": null,
   "metadata": {
    "collapsed": true
   },
   "outputs": [],
   "source": [
    "write.csv(pg.table, file = file, quote = FALSE, row.names = FALSE)"
   ]
  },
  {
   "cell_type": "markdown",
   "metadata": {},
   "source": [
    "### Exercise -  Downloading the Entire Month Wise Arrival Data"
   ]
  },
  {
   "cell_type": "code",
   "execution_count": null,
   "metadata": {
    "collapsed": true
   },
   "outputs": [],
   "source": []
  }
 ],
 "metadata": {
  "kernelspec": {
   "display_name": "Python 3",
   "language": "python",
   "name": "python3"
  },
  "language_info": {
   "codemirror_mode": {
    "name": "ipython",
    "version": 3
   },
   "file_extension": ".py",
   "mimetype": "text/x-python",
   "name": "python",
   "nbconvert_exporter": "python",
   "pygments_lexer": "ipython3",
   "version": "3.6.3"
  }
 },
 "nbformat": 4,
 "nbformat_minor": 1
}
